{
 "cells": [
  {
   "cell_type": "code",
   "execution_count": 1,
   "metadata": {},
   "outputs": [],
   "source": [
    "import pandas as pd\n",
    "import numpy as np\n",
    "from sklearn.model_selection import train_test_split"
   ]
  },
  {
   "cell_type": "code",
   "execution_count": 252,
   "metadata": {},
   "outputs": [],
   "source": [
    "s1=pd.read_csv('Meditation experiment with tagging-1/NFB_17-4-2019_20-48._FP2csv.csv',names=['X','Y'])\n",
    "s2=pd.read_csv('Meditation experiment with tagging-1/NFB_17-4-2019_22-35_F4.csv',names=['X','Y'])\n",
    "s3=pd.read_csv('Meditation experiment with tagging-1/NFB_18-4-2019_0-13_O2.csv',names=['X','Y'])\n",
    "s4=pd.read_csv('Meditation experiment with tagging-1/NFB_18-4-2019_21-17._P4. csv.csv',names=['X','Y'])\n",
    "s1=s3[12:]\n",
    "s2=s2[3:]\n",
    "s3=s3[12:]\n",
    "s4=s4[3:]\n",
    "#s3.X=s3.X.astype(float)"
   ]
  },
  {
   "cell_type": "code",
   "execution_count": 253,
   "metadata": {},
   "outputs": [
    {
     "name": "stdout",
     "output_type": "stream",
     "text": [
      "                X  Y\n",
      "12      -35768.88  0\n",
      "13      -35776.61  0\n",
      "14      -35743.90  0\n",
      "15      -35672.68  0\n",
      "16      -35584.84  0\n",
      "17      -35521.47  0\n",
      "18      -35530.38  0\n",
      "19      -35639.73  0\n",
      "20      -35833.74  0\n",
      "21      -36052.32  0\n",
      "22      -36216.17  0\n",
      "23      -36269.10  0\n",
      "24      -36211.43  0\n",
      "25      -36094.01  0\n",
      "26      -35985.30  0\n",
      "27      -35940.94  0\n",
      "28      -35975.62  0\n",
      "29      -36058.86  0\n",
      "30      -36121.15  0\n",
      "31      -36087.05  0\n",
      "32      -35920.49  0\n",
      "33      -35655.69  0\n",
      "34      -35390.91  0\n",
      "35      -35243.60  0\n",
      "36      -35287.48  0\n",
      "37      -35520.36  0\n",
      "38      -35865.79  0\n",
      "39      -36201.35  0\n",
      "40      -36406.73  0\n",
      "41      -36402.24  0\n",
      "...           ... ..\n",
      "456937   -24458.1  0\n",
      "456938   -24347.2  0\n",
      "456939   -24234.7  0\n",
      "456940   -24129.6  0\n",
      "456941   -24030.3  0\n",
      "456942   -23938.6  0\n",
      "456943   -23868.5  0\n",
      "456944   -23838.4  0\n",
      "456945   -23854.5  0\n",
      "456946   -23904.1  0\n",
      "456947   -23969.7  0\n",
      "456948   -24041.9  0\n",
      "456949   -24119.9  0\n",
      "456950   -24198.7  0\n",
      "456951   -24267.8  0\n",
      "456952   -24318.5  0\n",
      "456953   -24350.7  0\n",
      "456954     -24363  0\n",
      "456955   -24347.1  0\n",
      "456956   -24286.2  0\n",
      "456957   -24176.7  0\n",
      "456958   -24036.7  0\n",
      "456959     -23898  0\n",
      "456960     -23785  0\n",
      "456961   -23703.5  0\n",
      "456962   -23645.4  0\n",
      "456963   -23603.7  0\n",
      "456964   -23567.8  0\n",
      "456965   -23524.7  0\n",
      "456966   -23461.6  0\n",
      "\n",
      "[1831086 rows x 2 columns]\n"
     ]
    }
   ],
   "source": [
    "s=s1.append(s2.append(s3.append(s4)))\n",
    "print(s)\n",
    "s.X=s.X.astype(float)"
   ]
  },
  {
   "cell_type": "code",
   "execution_count": 50,
   "metadata": {},
   "outputs": [
    {
     "name": "stderr",
     "output_type": "stream",
     "text": [
      "C:\\Users\\Turiya\\Anaconda3\\lib\\site-packages\\ipykernel_launcher.py:8: SettingWithCopyWarning: \n",
      "A value is trying to be set on a copy of a slice from a DataFrame\n",
      "\n",
      "See the caveats in the documentation: http://pandas.pydata.org/pandas-docs/stable/indexing.html#indexing-view-versus-copy\n",
      "  \n"
     ]
    }
   ],
   "source": [
    "for i in range(12,453860):\n",
    "    if(s3.Y[i]==39):\n",
    "        for _ in range(i-1250,i-16250,-1):\n",
    "            if s3.Y[_]!=0:\n",
    "                i+=1500\n",
    "                break\n",
    "            else:\n",
    "                s3.Y[i-16250:i-1250]=1"
   ]
  },
  {
   "cell_type": "code",
   "execution_count": 51,
   "metadata": {},
   "outputs": [
    {
     "name": "stdout",
     "output_type": "stream",
     "text": [
      "               X   Y\n",
      "445992 -35769.84  38\n",
      "445993 -35602.02  38\n",
      "445994 -35494.02  38\n",
      "445995 -35484.65  38\n",
      "445996 -35566.33  38\n",
      "(147054, 2)\n"
     ]
    }
   ],
   "source": [
    "temp=s3\n",
    "#rows=temp.shape[0]\n",
    "temp=temp[temp['Y']!=0]\n",
    "temp=temp[temp['Y']!=39]\n",
    "print(temp.tail(5))\n",
    "print(temp.shape)"
   ]
  },
  {
   "cell_type": "code",
   "execution_count": 52,
   "metadata": {},
   "outputs": [],
   "source": [
    "X=temp['X']\n",
    "X=X.values.reshape(-1,1)\n",
    "Y=temp['Y']"
   ]
  },
  {
   "cell_type": "markdown",
   "metadata": {},
   "source": [
    "# grouping of data"
   ]
  },
  {
   "cell_type": "code",
   "execution_count": 208,
   "metadata": {},
   "outputs": [],
   "source": [
    "gtemp=temp.groupby('Y')\n",
    "y=[]"
   ]
  },
  {
   "cell_type": "code",
   "execution_count": 209,
   "metadata": {},
   "outputs": [],
   "source": [
    "g1=gtemp.get_group(1)\n",
    "g32=gtemp.get_group(32)\n",
    "g37=gtemp.get_group(37)\n",
    "g38=gtemp.get_group(38)"
   ]
  },
  {
   "cell_type": "code",
   "execution_count": 210,
   "metadata": {},
   "outputs": [],
   "source": [
    "n_features=1\n",
    "totaldp=0\n",
    "window=300\n",
    "X=g1['X']\n",
    "data_points=X.shape[0]//window\n",
    "y=np.append(y,[1]*data_points)\n",
    "totaldp+=data_points\n",
    "X=X.head(data_points*window)\n",
    "X=np.array(X)\n",
    "X=np.reshape(X,((data_points,window,n_features)))\n",
    "groupedX=X\n",
    "X=g32['X']\n",
    "data_points=X.shape[0]//window\n",
    "y=np.append(y,[32]*data_points)\n",
    "totaldp+=data_points\n",
    "X=X.head(data_points*window)\n",
    "X=np.array(X)\n",
    "X=np.reshape(X,((data_points,window,n_features)))\n",
    "groupedX=np.append(groupedX,X)\n",
    "X=g37['X']\n",
    "data_points=X.shape[0]//window\n",
    "y=np.append(y,[37]*data_points)\n",
    "totaldp+=data_points\n",
    "X=X.head(data_points*window)\n",
    "X=np.array(X)\n",
    "X=np.reshape(X,((data_points,window,n_features)))\n",
    "groupedX=np.append(groupedX,X)\n",
    "X=g38['X']\n",
    "data_points=X.shape[0]//window\n",
    "y=np.append(y,[38]*data_points)\n",
    "totaldp+=data_points\n",
    "X=X.head(data_points*window)\n",
    "X=np.array(X)\n",
    "X=np.reshape(X,((data_points,window,n_features)))\n",
    "groupedX=np.append(groupedX,X)\n",
    "groupedX=np.reshape(groupedX,((totaldp,window,n_features)))"
   ]
  },
  {
   "cell_type": "markdown",
   "metadata": {},
   "source": [
    "# extracting features"
   ]
  },
  {
   "cell_type": "code",
   "execution_count": 217,
   "metadata": {},
   "outputs": [],
   "source": [
    "X=groupedX\n",
    "a=np.max(X,axis=1)\n",
    "    #print(a.shape)\n",
    "    #b=np.min(X,axis=1)\n",
    "a=np.concatenate((a,np.min(X,axis=1)),axis=1)\n",
    "a=np.concatenate((a,np.average(X,axis=1)),axis=1)\n",
    "a=np.concatenate((a,np.std(X,axis=1)),axis=1)\n",
    "a=np.real(np.fft.rfftn(X,axes=(0,1)))[:,0]"
   ]
  },
  {
   "cell_type": "markdown",
   "metadata": {},
   "source": [
    "# algos"
   ]
  },
  {
   "cell_type": "code",
   "execution_count": 244,
   "metadata": {},
   "outputs": [
    {
     "name": "stdout",
     "output_type": "stream",
     "text": [
      "(162,)\n"
     ]
    }
   ],
   "source": [
    "X=X.reshape(-1,window)\n",
    "print(y_test.shape)\n",
    "X_train, X_test, y_train, y_test = train_test_split(X, y, test_size=0.33)"
   ]
  },
  {
   "cell_type": "code",
   "execution_count": 245,
   "metadata": {},
   "outputs": [],
   "source": [
    "from sklearn.svm import SVC\n",
    "clf = SVC(kernel='linear') \n",
    "clf.fit(X_train,y_train)\n",
    "clf.score(X_test,y_test)\n",
    "y_pre=clf.predict(X_test)"
   ]
  },
  {
   "cell_type": "code",
   "execution_count": 246,
   "metadata": {},
   "outputs": [],
   "source": [
    "from sklearn.metrics import confusion_matrix \n",
    "from sklearn.metrics import accuracy_score \n",
    "from sklearn.metrics import classification_report"
   ]
  },
  {
   "cell_type": "code",
   "execution_count": 247,
   "metadata": {},
   "outputs": [
    {
     "name": "stdout",
     "output_type": "stream",
     "text": [
      "Confusion Matrix :\n",
      "[[32  0 19  3]\n",
      " [ 0  0  1  0]\n",
      " [20  0 27 19]\n",
      " [ 1  0 14 26]]\n",
      "Accuracy Score : 0.5246913580246914\n",
      "              precision    recall  f1-score   support\n",
      "\n",
      "         1.0       0.60      0.59      0.60        54\n",
      "        32.0       0.00      0.00      0.00         1\n",
      "        37.0       0.44      0.41      0.43        66\n",
      "        38.0       0.54      0.63      0.58        41\n",
      "\n",
      "   micro avg       0.52      0.52      0.52       162\n",
      "   macro avg       0.40      0.41      0.40       162\n",
      "weighted avg       0.52      0.52      0.52       162\n",
      "\n"
     ]
    },
    {
     "name": "stderr",
     "output_type": "stream",
     "text": [
      "C:\\Users\\Turiya\\Anaconda3\\lib\\site-packages\\sklearn\\metrics\\classification.py:1143: UndefinedMetricWarning: Precision and F-score are ill-defined and being set to 0.0 in labels with no predicted samples.\n",
      "  'precision', 'predicted', average, warn_for)\n"
     ]
    }
   ],
   "source": [
    "actual=y_test\n",
    "predicted=y_pre\n",
    "results = confusion_matrix(actual, predicted) \n",
    "print ('Confusion Matrix :')\n",
    "print(results) \n",
    "print ('Accuracy Score :',accuracy_score(actual, predicted) )\n",
    "#print ('Report : ')\n",
    "print (classification_report(actual, predicted) )"
   ]
  },
  {
   "cell_type": "code",
   "execution_count": null,
   "metadata": {},
   "outputs": [],
   "source": []
  },
  {
   "cell_type": "code",
   "execution_count": null,
   "metadata": {},
   "outputs": [],
   "source": []
  }
 ],
 "metadata": {
  "kernelspec": {
   "display_name": "Python 3",
   "language": "python",
   "name": "python3"
  },
  "language_info": {
   "codemirror_mode": {
    "name": "ipython",
    "version": 3
   },
   "file_extension": ".py",
   "mimetype": "text/x-python",
   "name": "python",
   "nbconvert_exporter": "python",
   "pygments_lexer": "ipython3",
   "version": "3.7.3"
  }
 },
 "nbformat": 4,
 "nbformat_minor": 2
}
