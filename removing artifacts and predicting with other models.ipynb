{
 "cells": [
  {
   "cell_type": "code",
   "execution_count": 1,
   "metadata": {},
   "outputs": [],
   "source": [
    "import pandas as pd\n",
    "import numpy as np\n",
    "import matplotlib.pyplot as plt\n",
    "from sklearn.model_selection import train_test_split"
   ]
  },
  {
   "cell_type": "code",
   "execution_count": 2,
   "metadata": {},
   "outputs": [],
   "source": [
    "temp=pd.read_csv('trimmedData.csv')\n",
    "X=temp['X']\n",
    "X=X.values.reshape(-1,1)\n",
    "Y=temp['Y']"
   ]
  },
  {
   "cell_type": "code",
   "execution_count": 3,
   "metadata": {},
   "outputs": [],
   "source": [
    "gtemp=temp.groupby('Y')\n",
    "y=[]\n",
    "g1=gtemp.get_group(1) \n",
    "g2=gtemp.get_group(2)\n",
    "g32=gtemp.get_group(32)\n",
    "g37=gtemp.get_group(37)\n",
    "g38=gtemp.get_group(38)"
   ]
  },
  {
   "cell_type": "code",
   "execution_count": 4,
   "metadata": {},
   "outputs": [],
   "source": [
    "n_features=1\n",
    "totaldp=0\n",
    "window=250\n",
    "\n",
    "X=g1['X']\n",
    "data_points=X.shape[0]//window\n",
    "y=np.append(y,[1]*data_points)\n",
    "totaldp+=data_points\n",
    "X=X.head(data_points*window)\n",
    "X=np.array(X)\n",
    "X=np.reshape(X,((data_points,window,n_features)))\n",
    "groupedX=X\n",
    "X=g2['X']\n",
    "data_points=X.shape[0]//window\n",
    "y=np.append(y,[2]*data_points)\n",
    "totaldp+=data_points\n",
    "X=X.head(data_points*window)\n",
    "X=np.array(X)\n",
    "X=np.reshape(X,((data_points,window,n_features)))\n",
    "groupedX=np.append(groupedX,X)\n",
    "X=g32['X']\n",
    "data_points=X.shape[0]//window\n",
    "y=np.append(y,[32]*data_points)\n",
    "totaldp+=data_points\n",
    "X=X.head(data_points*window)\n",
    "X=np.array(X)\n",
    "X=np.reshape(X,((data_points,window,n_features)))\n",
    "groupedX=np.append(groupedX,X)\n",
    "X=g37['X']\n",
    "data_points=X.shape[0]//window\n",
    "y=np.append(y,[37]*data_points)\n",
    "totaldp+=data_points\n",
    "X=X.head(data_points*window)\n",
    "X=np.array(X)\n",
    "X=np.reshape(X,((data_points,window,n_features)))\n",
    "groupedX=np.append(groupedX,X)\n",
    "X=g38['X']\n",
    "data_points=X.shape[0]//window\n",
    "y=np.append(y,[38]*data_points)\n",
    "totaldp+=data_points\n",
    "X=X.head(data_points*window)\n",
    "X=np.array(X)\n",
    "X=np.reshape(X,((data_points,window,n_features)))\n",
    "groupedX=np.append(groupedX,X)\n",
    "groupedX=np.reshape(groupedX,((totaldp,window,n_features)))"
   ]
  },
  {
   "cell_type": "code",
   "execution_count": 5,
   "metadata": {},
   "outputs": [
    {
     "data": {
      "text/plain": [
       "'for i in range(groupedX.shape[0]):\\n    groupedX[i]=groupedX[i]-np.mean(groupedX[i])'"
      ]
     },
     "execution_count": 5,
     "metadata": {},
     "output_type": "execute_result"
    }
   ],
   "source": [
    "'''for i in range(groupedX.shape[0]):\n",
    "    groupedX[i]=groupedX[i]-np.mean(groupedX[i])'''"
   ]
  },
  {
   "cell_type": "code",
   "execution_count": 6,
   "metadata": {},
   "outputs": [],
   "source": [
    "artifactInd=pd.read_csv('artifact predicted svm xtreme.csv',names=['a'])"
   ]
  },
  {
   "cell_type": "code",
   "execution_count": 7,
   "metadata": {},
   "outputs": [
    {
     "name": "stdout",
     "output_type": "stream",
     "text": [
      "(2628, 250, 1)\n"
     ]
    },
    {
     "data": {
      "text/plain": [
       "(2615, 250, 1)"
      ]
     },
     "execution_count": 7,
     "metadata": {},
     "output_type": "execute_result"
    }
   ],
   "source": [
    "lst=artifactInd.a.values.tolist()\n",
    "lst=[int(i) for i in lst]\n",
    "print(groupedX.shape)\n",
    "groupedX=np.delete(groupedX,lst,axis=0)\n",
    "groupedX.shape"
   ]
  },
  {
   "cell_type": "code",
   "execution_count": 8,
   "metadata": {},
   "outputs": [
    {
     "data": {
      "text/plain": [
       "(2615,)"
      ]
     },
     "execution_count": 8,
     "metadata": {},
     "output_type": "execute_result"
    }
   ],
   "source": [
    "y=np.delete(y,lst,axis=0)\n",
    "y.shape"
   ]
  },
  {
   "cell_type": "code",
   "execution_count": 19,
   "metadata": {},
   "outputs": [],
   "source": [
    "X=groupedX\n",
    "a=np.max(X,axis=1)\n",
    "    #print(a.shape)\n",
    "    #b=np.min(X,axis=1)\n",
    "a=np.concatenate((a,np.min(X,axis=1)),axis=1)\n",
    "a=np.concatenate((a,np.average(X,axis=1)),axis=1)\n",
    "a=np.concatenate((a,np.std(X,axis=1)),axis=1)\n",
    "a=np.concatenate((a,np.real(np.fft.rfftn(X,axes=(0,1),norm='ortho'))[:,0]),axis=1)\n",
    "X=a"
   ]
  },
  {
   "cell_type": "code",
   "execution_count": 20,
   "metadata": {},
   "outputs": [],
   "source": [
    "#print(X)\n",
    "from sklearn.preprocessing import MinMaxScaler \n",
    "scaler = MinMaxScaler(feature_range=(0, 1)) \n",
    "rescaledX = scaler.fit_transform(X) \n",
    "#print(rescaledX)\n",
    "X=rescaledX"
   ]
  },
  {
   "cell_type": "code",
   "execution_count": 27,
   "metadata": {},
   "outputs": [
    {
     "name": "stdout",
     "output_type": "stream",
     "text": [
      "(863,)\n"
     ]
    }
   ],
   "source": [
    "X_train, X_test, y_train, y_test = train_test_split(X, y, test_size=0.33)\n",
    "print(y_test.shape)"
   ]
  },
  {
   "cell_type": "code",
   "execution_count": null,
   "metadata": {},
   "outputs": [],
   "source": []
  },
  {
   "cell_type": "code",
   "execution_count": 28,
   "metadata": {},
   "outputs": [],
   "source": [
    "from sklearn.metrics import confusion_matrix \n",
    "from sklearn.metrics import accuracy_score \n",
    "from sklearn.metrics import classification_report"
   ]
  },
  {
   "cell_type": "code",
   "execution_count": null,
   "metadata": {},
   "outputs": [],
   "source": []
  },
  {
   "cell_type": "code",
   "execution_count": null,
   "metadata": {},
   "outputs": [],
   "source": []
  },
  {
   "cell_type": "code",
   "execution_count": null,
   "metadata": {},
   "outputs": [],
   "source": []
  },
  {
   "cell_type": "code",
   "execution_count": 29,
   "metadata": {},
   "outputs": [],
   "source": [
    "from sklearn.tree import DecisionTreeClassifier\n",
    "clf = DecisionTreeClassifier().fit(X_train, y_train)\n",
    "clf.score(X_test,y_test)\n",
    "y_pre=clf.predict(X_test)"
   ]
  },
  {
   "cell_type": "code",
   "execution_count": 30,
   "metadata": {},
   "outputs": [
    {
     "name": "stdout",
     "output_type": "stream",
     "text": [
      "Confusion Matrix :\n",
      "[[384  17   0  20   1]\n",
      " [ 22  54   0  15   0]\n",
      " [  0   0   1   0   0]\n",
      " [ 22  10   0 223  11]\n",
      " [  3   0   1  13  66]]\n",
      "Accuracy Score : 0.8435689455388181\n",
      "              precision    recall  f1-score   support\n",
      "\n",
      "         1.0       0.89      0.91      0.90       422\n",
      "         2.0       0.67      0.59      0.63        91\n",
      "        32.0       0.50      1.00      0.67         1\n",
      "        37.0       0.82      0.84      0.83       266\n",
      "        38.0       0.85      0.80      0.82        83\n",
      "\n",
      "   micro avg       0.84      0.84      0.84       863\n",
      "   macro avg       0.75      0.83      0.77       863\n",
      "weighted avg       0.84      0.84      0.84       863\n",
      "\n"
     ]
    }
   ],
   "source": [
    "actual=y_test\n",
    "predicted=y_pre\n",
    "results = confusion_matrix(actual, predicted) \n",
    "print ('Confusion Matrix :')\n",
    "print(results) \n",
    "print ('Accuracy Score :',accuracy_score(actual, predicted) )\n",
    "#print ('Report : ')\n",
    "print (classification_report(actual, predicted) )"
   ]
  },
  {
   "cell_type": "code",
   "execution_count": null,
   "metadata": {},
   "outputs": [],
   "source": []
  },
  {
   "cell_type": "code",
   "execution_count": 31,
   "metadata": {},
   "outputs": [],
   "source": [
    "from sklearn.ensemble import RandomForestClassifier\n",
    "clf=RandomForestClassifier(n_estimators=50)\n",
    "clf.fit(X_train,y_train)\n",
    "clf.score(X_test,y_test)\n",
    "y_pre=clf.predict(X_test)"
   ]
  },
  {
   "cell_type": "code",
   "execution_count": 32,
   "metadata": {},
   "outputs": [
    {
     "name": "stdout",
     "output_type": "stream",
     "text": [
      "Confusion Matrix :\n",
      "[[382  17   0  20   3]\n",
      " [ 24  63   0   4   0]\n",
      " [  0   0   0   0   1]\n",
      " [ 20  10   0 235   1]\n",
      " [  2   0   0   8  73]]\n",
      "Accuracy Score : 0.8725376593279258\n",
      "              precision    recall  f1-score   support\n",
      "\n",
      "         1.0       0.89      0.91      0.90       422\n",
      "         2.0       0.70      0.69      0.70        91\n",
      "        32.0       0.00      0.00      0.00         1\n",
      "        37.0       0.88      0.88      0.88       266\n",
      "        38.0       0.94      0.88      0.91        83\n",
      "\n",
      "   micro avg       0.87      0.87      0.87       863\n",
      "   macro avg       0.68      0.67      0.68       863\n",
      "weighted avg       0.87      0.87      0.87       863\n",
      "\n"
     ]
    },
    {
     "name": "stderr",
     "output_type": "stream",
     "text": [
      "C:\\Users\\Babbar\\Anaconda3\\lib\\site-packages\\sklearn\\metrics\\classification.py:1143: UndefinedMetricWarning: Precision and F-score are ill-defined and being set to 0.0 in labels with no predicted samples.\n",
      "  'precision', 'predicted', average, warn_for)\n"
     ]
    }
   ],
   "source": [
    "actual=y_test\n",
    "predicted=y_pre\n",
    "results = confusion_matrix(actual, predicted) \n",
    "print ('Confusion Matrix :')\n",
    "print(results) \n",
    "print ('Accuracy Score :',accuracy_score(actual, predicted) )\n",
    "#print ('Report : ')\n",
    "print (classification_report(actual, predicted) )"
   ]
  },
  {
   "cell_type": "markdown",
   "metadata": {},
   "source": [
    "1. We cannot use mean subtraction from each chunk separately to classify\n",
    "between the mind stages, it reduces accuracy - Amplitude has a key role\n",
    "in predictions\n",
    "2. Preprocessing using standard scaler also had a bad impact on the\n",
    "prediction\n"
   ]
  },
  {
   "cell_type": "code",
   "execution_count": null,
   "metadata": {},
   "outputs": [],
   "source": []
  }
 ],
 "metadata": {
  "kernelspec": {
   "display_name": "Python 3",
   "language": "python",
   "name": "python3"
  },
  "language_info": {
   "codemirror_mode": {
    "name": "ipython",
    "version": 3
   },
   "file_extension": ".py",
   "mimetype": "text/x-python",
   "name": "python",
   "nbconvert_exporter": "python",
   "pygments_lexer": "ipython3",
   "version": "3.6.8"
  }
 },
 "nbformat": 4,
 "nbformat_minor": 2
}
