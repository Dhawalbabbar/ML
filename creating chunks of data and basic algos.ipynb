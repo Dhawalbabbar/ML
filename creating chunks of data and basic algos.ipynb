{
 "cells": [
  {
   "cell_type": "code",
   "execution_count": 1,
   "metadata": {},
   "outputs": [],
   "source": [
    "import pandas as pd\n",
    "import numpy as np\n",
    "from sklearn.model_selection import train_test_split"
   ]
  },
  {
   "cell_type": "code",
   "execution_count": 2,
   "metadata": {},
   "outputs": [],
   "source": [
    "temp=pd.read_csv('trimmedData.csv')"
   ]
  },
  {
   "cell_type": "code",
   "execution_count": 3,
   "metadata": {},
   "outputs": [],
   "source": [
    "X=temp['X']\n",
    "X=X.values.reshape(-1,1)\n",
    "Y=temp['Y']"
   ]
  },
  {
   "cell_type": "markdown",
   "metadata": {},
   "source": [
    "# grouping of data \n",
    "and creating chunks of size window\n"
   ]
  },
  {
   "cell_type": "code",
   "execution_count": 4,
   "metadata": {},
   "outputs": [],
   "source": [
    "gtemp=temp.groupby('Y')\n",
    "y=[]"
   ]
  },
  {
   "cell_type": "code",
   "execution_count": 5,
   "metadata": {},
   "outputs": [],
   "source": [
    "g1=gtemp.get_group(1) \n",
    "g2=gtemp.get_group(2)\n",
    "g32=gtemp.get_group(32)\n",
    "g37=gtemp.get_group(37)\n",
    "g38=gtemp.get_group(38)"
   ]
  },
  {
   "cell_type": "code",
   "execution_count": 6,
   "metadata": {},
   "outputs": [],
   "source": [
    "n_features=1\n",
    "totaldp=0\n",
    "window=100\n",
    "\n",
    "X=g1['X']\n",
    "data_points=X.shape[0]//window\n",
    "y=np.append(y,[1]*data_points)\n",
    "totaldp+=data_points\n",
    "X=X.head(data_points*window)\n",
    "X=np.array(X)\n",
    "X=np.reshape(X,((data_points,window,n_features)))\n",
    "groupedX=X\n",
    "X=g2['X']\n",
    "data_points=X.shape[0]//window\n",
    "y=np.append(y,[2]*data_points)\n",
    "totaldp+=data_points\n",
    "X=X.head(data_points*window)\n",
    "X=np.array(X)\n",
    "X=np.reshape(X,((data_points,window,n_features)))\n",
    "groupedX=np.append(groupedX,X)\n",
    "X=g32['X']\n",
    "data_points=X.shape[0]//window\n",
    "y=np.append(y,[32]*data_points)\n",
    "totaldp+=data_points\n",
    "X=X.head(data_points*window)\n",
    "X=np.array(X)\n",
    "X=np.reshape(X,((data_points,window,n_features)))\n",
    "groupedX=np.append(groupedX,X)\n",
    "X=g37['X']\n",
    "data_points=X.shape[0]//window\n",
    "y=np.append(y,[37]*data_points)\n",
    "totaldp+=data_points\n",
    "X=X.head(data_points*window)\n",
    "X=np.array(X)\n",
    "X=np.reshape(X,((data_points,window,n_features)))\n",
    "groupedX=np.append(groupedX,X)\n",
    "X=g38['X']\n",
    "data_points=X.shape[0]//window\n",
    "y=np.append(y,[38]*data_points)\n",
    "totaldp+=data_points\n",
    "X=X.head(data_points*window)\n",
    "X=np.array(X)\n",
    "X=np.reshape(X,((data_points,window,n_features)))\n",
    "groupedX=np.append(groupedX,X)\n",
    "groupedX=np.reshape(groupedX,((totaldp,window,n_features)))"
   ]
  },
  {
   "cell_type": "code",
   "execution_count": 7,
   "metadata": {},
   "outputs": [
    {
     "data": {
      "text/plain": [
       "array([[[-37016.43],\n",
       "        [-37019.97],\n",
       "        [-36953.35],\n",
       "        ...,\n",
       "        [-36652.03],\n",
       "        [-36534.31],\n",
       "        [-36396.34]],\n",
       "\n",
       "       [[-36287.14],\n",
       "        [-36243.68],\n",
       "        [-36275.21],\n",
       "        ...,\n",
       "        [-37503.79],\n",
       "        [-37310.43],\n",
       "        [-36971.02]],\n",
       "\n",
       "       [[-36571.61],\n",
       "        [-36217.95],\n",
       "        [-35993.68],\n",
       "        ...,\n",
       "        [-36447.84],\n",
       "        [-36526.63],\n",
       "        [-36607.72]],\n",
       "\n",
       "       ...,\n",
       "\n",
       "       [[-36154.45],\n",
       "        [-35843.25],\n",
       "        [-35574.54],\n",
       "        ...,\n",
       "        [-35931.14],\n",
       "        [-35707.47],\n",
       "        [-35552.08]],\n",
       "\n",
       "       [[-35522.41],\n",
       "        [-35618.35],\n",
       "        [-35781.13],\n",
       "        ...,\n",
       "        [-35297.22],\n",
       "        [-35059.32],\n",
       "        [-35028.91]],\n",
       "\n",
       "       [[-35192.5 ],\n",
       "        [-35463.76],\n",
       "        [-35733.85],\n",
       "        ...,\n",
       "        [-36265.45],\n",
       "        [-36272.82],\n",
       "        [-36109.07]]])"
      ]
     },
     "execution_count": 7,
     "metadata": {},
     "output_type": "execute_result"
    }
   ],
   "source": [
    "groupedX"
   ]
  },
  {
   "cell_type": "markdown",
   "metadata": {},
   "source": [
    "# extracting features"
   ]
  },
  {
   "cell_type": "code",
   "execution_count": 8,
   "metadata": {},
   "outputs": [],
   "source": [
    "X=groupedX\n",
    "a=np.max(X,axis=1)\n",
    "    #print(a.shape)\n",
    "    #b=np.min(X,axis=1)\n",
    "a=np.concatenate((a,np.min(X,axis=1)),axis=1)\n",
    "a=np.concatenate((a,np.average(X,axis=1)),axis=1)\n",
    "a=np.concatenate((a,np.std(X,axis=1)),axis=1)\n",
    "a=np.concatenate((a,np.real(np.fft.rfftn(X,axes=(0,1)))[:,0]),axis=1)\n",
    "X=a"
   ]
  },
  {
   "cell_type": "markdown",
   "metadata": {},
   "source": [
    "# algos"
   ]
  },
  {
   "cell_type": "code",
   "execution_count": 9,
   "metadata": {},
   "outputs": [
    {
     "name": "stdout",
     "output_type": "stream",
     "text": [
      "(2170,)\n"
     ]
    }
   ],
   "source": [
    "#X=X.reshape(-1,window)\n",
    "\n",
    "X_train, X_test, y_train, y_test = train_test_split(X, y, test_size=0.33)\n",
    "print(y_test.shape)"
   ]
  },
  {
   "cell_type": "markdown",
   "metadata": {},
   "source": [
    "# Data Classes\n",
    "1 new mind wonder           \n",
    "2 new sleepy        \n",
    "32 peek experiences        \n",
    "37 some meditation     \n",
    "38 good meditation      \n",
    "\n",
    "Mind Wonder and aleepy are 5-10 sec after it actually occoured"
   ]
  },
  {
   "cell_type": "code",
   "execution_count": null,
   "metadata": {},
   "outputs": [],
   "source": [
    "#SVM\n",
    "from sklearn.svm import SVC\n",
    "clf = SVC(kernel='linear') \n",
    "clf.fit(X_train,y_train)\n",
    "clf.score(X_test,y_test)\n",
    "y_pre=clf.predict(X_test)"
   ]
  },
  {
   "cell_type": "code",
   "execution_count": null,
   "metadata": {},
   "outputs": [],
   "source": [
    "from sklearn.metrics import confusion_matrix \n",
    "from sklearn.metrics import accuracy_score \n",
    "from sklearn.metrics import classification_report"
   ]
  },
  {
   "cell_type": "code",
   "execution_count": null,
   "metadata": {},
   "outputs": [],
   "source": [
    "actual=y_test\n",
    "predicted=y_pre\n",
    "results = confusion_matrix(actual, predicted) \n",
    "print ('Confusion Matrix :')\n",
    "print(results) \n",
    "print ('Accuracy Score :',accuracy_score(actual, predicted) )\n",
    "#print ('Report : ')\n",
    "print (classification_report(actual, predicted) )"
   ]
  },
  {
   "cell_type": "code",
   "execution_count": 10,
   "metadata": {},
   "outputs": [],
   "source": [
    "#Decision Tree\n",
    "from sklearn.tree import DecisionTreeClassifier\n",
    "clf = DecisionTreeClassifier().fit(X_train, y_train)\n",
    "clf.score(X_test,y_test)\n",
    "y_pre=clf.predict(X_test)"
   ]
  },
  {
   "cell_type": "code",
   "execution_count": 11,
   "metadata": {},
   "outputs": [
    {
     "ename": "NameError",
     "evalue": "name 'confusion_matrix' is not defined",
     "output_type": "error",
     "traceback": [
      "\u001b[1;31m---------------------------------------------------------------------------\u001b[0m",
      "\u001b[1;31mNameError\u001b[0m                                 Traceback (most recent call last)",
      "\u001b[1;32m<ipython-input-11-2b96cbac70c4>\u001b[0m in \u001b[0;36m<module>\u001b[1;34m\u001b[0m\n\u001b[0;32m      1\u001b[0m \u001b[0mactual\u001b[0m\u001b[1;33m=\u001b[0m\u001b[0my_test\u001b[0m\u001b[1;33m\u001b[0m\u001b[1;33m\u001b[0m\u001b[0m\n\u001b[0;32m      2\u001b[0m \u001b[0mpredicted\u001b[0m\u001b[1;33m=\u001b[0m\u001b[0my_pre\u001b[0m\u001b[1;33m\u001b[0m\u001b[1;33m\u001b[0m\u001b[0m\n\u001b[1;32m----> 3\u001b[1;33m \u001b[0mresults\u001b[0m \u001b[1;33m=\u001b[0m \u001b[0mconfusion_matrix\u001b[0m\u001b[1;33m(\u001b[0m\u001b[0mactual\u001b[0m\u001b[1;33m,\u001b[0m \u001b[0mpredicted\u001b[0m\u001b[1;33m)\u001b[0m\u001b[1;33m\u001b[0m\u001b[1;33m\u001b[0m\u001b[0m\n\u001b[0m\u001b[0;32m      4\u001b[0m \u001b[0mprint\u001b[0m \u001b[1;33m(\u001b[0m\u001b[1;34m'Confusion Matrix :'\u001b[0m\u001b[1;33m)\u001b[0m\u001b[1;33m\u001b[0m\u001b[1;33m\u001b[0m\u001b[0m\n\u001b[0;32m      5\u001b[0m \u001b[0mprint\u001b[0m\u001b[1;33m(\u001b[0m\u001b[0mresults\u001b[0m\u001b[1;33m)\u001b[0m\u001b[1;33m\u001b[0m\u001b[1;33m\u001b[0m\u001b[0m\n",
      "\u001b[1;31mNameError\u001b[0m: name 'confusion_matrix' is not defined"
     ]
    }
   ],
   "source": [
    "actual=y_test\n",
    "predicted=y_pre\n",
    "results = confusion_matrix(actual, predicted) \n",
    "print ('Confusion Matrix :')\n",
    "print(results) \n",
    "print ('Accuracy Score :',accuracy_score(actual, predicted) )\n",
    "#print ('Report : ')\n",
    "print (classification_report(actual, predicted) )"
   ]
  },
  {
   "cell_type": "code",
   "execution_count": null,
   "metadata": {},
   "outputs": [],
   "source": [
    "#Random Forest\n",
    "from sklearn.ensemble import RandomForestClassifier\n",
    "clf=RandomForestClassifier(n_estimators=100)\n",
    "clf.fit(X_train,y_train)\n",
    "clf.score(X_test,y_test)\n",
    "y_pred=clf.predict(X_test)"
   ]
  },
  {
   "cell_type": "code",
   "execution_count": null,
   "metadata": {},
   "outputs": [],
   "source": [
    "actual=y_test\n",
    "predicted=y_pred\n",
    "results = confusion_matrix(actual, predicted) \n",
    "print ('Confusion Matrix :')\n",
    "print(results) \n",
    "print ('Accuracy Score :',accuracy_score(actual, predicted) )\n",
    "#print ('Report : ')\n",
    "print (classification_report(actual, predicted))"
   ]
  },
  {
   "cell_type": "code",
   "execution_count": null,
   "metadata": {},
   "outputs": [],
   "source": [
    "#KNN\n",
    "from sklearn.neighbors import KNeighborsClassifier\n",
    "knn=KNeighborsClassifier(n_neighbors=5)\n",
    "knn.fit(X_train,y_train)\n",
    "knn.score(X_test,y_test)\n",
    "y_pred=knn.predict(X_test)"
   ]
  },
  {
   "cell_type": "code",
   "execution_count": null,
   "metadata": {},
   "outputs": [],
   "source": [
    "actual=y_test\n",
    "predicted=y_pred\n",
    "results = confusion_matrix(actual, predicted) \n",
    "print ('Confusion Matrix :')\n",
    "print(results) \n",
    "print ('Accuracy Score :',accuracy_score(actual, predicted) )\n",
    "#print ('Report : ')\n",
    "print (classification_report(actual, predicted) )"
   ]
  },
  {
   "cell_type": "code",
   "execution_count": null,
   "metadata": {},
   "outputs": [],
   "source": []
  }
 ],
 "metadata": {
  "kernelspec": {
   "display_name": "Python 3",
   "language": "python",
   "name": "python3"
  },
  "language_info": {
   "codemirror_mode": {
    "name": "ipython",
    "version": 3
   },
   "file_extension": ".py",
   "mimetype": "text/x-python",
   "name": "python",
   "nbconvert_exporter": "python",
   "pygments_lexer": "ipython3",
   "version": "3.7.3"
  }
 },
 "nbformat": 4,
 "nbformat_minor": 2
}
