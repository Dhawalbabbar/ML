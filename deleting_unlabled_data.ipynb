{
 "cells": [
  {
   "cell_type": "markdown",
   "metadata": {},
   "source": [
    "# This File is for saving Labled Data to Trimmed Data .csv To be used ahead"
   ]
  },
  {
   "cell_type": "code",
   "execution_count": 1,
   "metadata": {},
   "outputs": [],
   "source": [
    "import pandas as pd\n",
    "import numpy as np\n",
    "from sklearn.model_selection import train_test_split"
   ]
  },
  {
   "cell_type": "code",
   "execution_count": 2,
   "metadata": {},
   "outputs": [
    {
     "name": "stderr",
     "output_type": "stream",
     "text": [
      "C:\\Users\\Turiya\\Anaconda3\\lib\\site-packages\\IPython\\core\\interactiveshell.py:3049: DtypeWarning: Columns (0) have mixed types. Specify dtype option on import or set low_memory=False.\n",
      "  interactivity=interactivity, compiler=compiler, result=result)\n"
     ]
    }
   ],
   "source": [
    "s1=pd.read_csv('Meditation experiment with tagging-1/NFB_17-4-2019_20-48._FP2csv.csv',names=['X','Y'])\n",
    "s2=pd.read_csv('Meditation experiment with tagging-1/NFB_17-4-2019_22-35_F4.csv',names=['X','Y'])\n",
    "s3=pd.read_csv('Meditation experiment with tagging-1/NFB_18-4-2019_0-13_O2.csv',names=['X','Y'])\n",
    "s4=pd.read_csv('Meditation experiment with tagging-1/NFB_18-4-2019_21-17._P4. csv.csv',names=['X','Y'])\n",
    "s1=s3[12:]\n",
    "s2=s2[3:]\n",
    "s3=s3[12:]\n",
    "s4=s4[3:]"
   ]
  },
  {
   "cell_type": "code",
   "execution_count": 3,
   "metadata": {},
   "outputs": [
    {
     "name": "stdout",
     "output_type": "stream",
     "text": [
      "                X  Y\n",
      "0       -35768.88  0\n",
      "1       -35776.61  0\n",
      "2       -35743.90  0\n",
      "3       -35672.68  0\n",
      "4       -35584.84  0\n",
      "5       -35521.47  0\n",
      "6       -35530.38  0\n",
      "7       -35639.73  0\n",
      "8       -35833.74  0\n",
      "9       -36052.32  0\n",
      "10      -36216.17  0\n",
      "11      -36269.10  0\n",
      "12      -36211.43  0\n",
      "13      -36094.01  0\n",
      "14      -35985.30  0\n",
      "15      -35940.94  0\n",
      "16      -35975.62  0\n",
      "17      -36058.86  0\n",
      "18      -36121.15  0\n",
      "19      -36087.05  0\n",
      "20      -35920.49  0\n",
      "21      -35655.69  0\n",
      "22      -35390.91  0\n",
      "23      -35243.60  0\n",
      "24      -35287.48  0\n",
      "25      -35520.36  0\n",
      "26      -35865.79  0\n",
      "27      -36201.35  0\n",
      "28      -36406.73  0\n",
      "29      -36402.24  0\n",
      "...           ... ..\n",
      "1831056 -24458.07  0\n",
      "1831057 -24347.21  0\n",
      "1831058 -24234.71  0\n",
      "1831059 -24129.62  0\n",
      "1831060 -24030.32  0\n",
      "1831061 -23938.61  0\n",
      "1831062 -23868.55  0\n",
      "1831063 -23838.38  0\n",
      "1831064 -23854.50  0\n",
      "1831065 -23904.08  0\n",
      "1831066 -23969.71  0\n",
      "1831067 -24041.91  0\n",
      "1831068 -24119.90  0\n",
      "1831069 -24198.66  0\n",
      "1831070 -24267.81  0\n",
      "1831071 -24318.50  0\n",
      "1831072 -24350.69  0\n",
      "1831073 -24363.03  0\n",
      "1831074 -24347.07  0\n",
      "1831075 -24286.16  0\n",
      "1831076 -24176.68  0\n",
      "1831077 -24036.65  0\n",
      "1831078 -23898.02  0\n",
      "1831079 -23785.02  0\n",
      "1831080 -23703.50  0\n",
      "1831081 -23645.44  0\n",
      "1831082 -23603.68  0\n",
      "1831083 -23567.85  0\n",
      "1831084 -23524.69  0\n",
      "1831085 -23461.63  0\n",
      "\n",
      "[1831086 rows x 2 columns]\n"
     ]
    }
   ],
   "source": [
    "s=s1.append(s2.append(s3.append(s4)))\n",
    "#print(s)\n",
    "\n",
    "s.X=s.X.astype(float)\n",
    "s=s.reset_index(drop=True)\n",
    "print(s)\n",
    "data_points=s.shape[0]"
   ]
  },
  {
   "cell_type": "code",
   "execution_count": null,
   "metadata": {},
   "outputs": [],
   "source": [
    "for i in range(data_points):\n",
    "    if(s.Y[i]==39 or s.Y[i]==40):\n",
    "            if s.Y[i-1]==s.Y[i]:\n",
    "                i+=1500\n",
    "            elif(s.Y[i]==39):\n",
    "                s.Y[i-16250:i-1250]=1\n",
    "            else:\n",
    "                s.Y[i-16250:i-1250]=2"
   ]
  },
  {
   "cell_type": "code",
   "execution_count": null,
   "metadata": {},
   "outputs": [],
   "source": [
    "temp=s3\n",
    "#rows=temp.shape[0]\n",
    "temp=temp[temp['Y']!=0]\n",
    "temp=temp[temp['Y']!=39]\n",
    "temp=temp[temp['Y']!=40]"
   ]
  },
  {
   "cell_type": "code",
   "execution_count": null,
   "metadata": {},
   "outputs": [],
   "source": [
    "temp.to_csv('trimmedData.csv',sep=',')"
   ]
  }
 ],
 "metadata": {
  "kernelspec": {
   "display_name": "Python 3",
   "language": "python",
   "name": "python3"
  },
  "language_info": {
   "codemirror_mode": {
    "name": "ipython",
    "version": 3
   },
   "file_extension": ".py",
   "mimetype": "text/x-python",
   "name": "python",
   "nbconvert_exporter": "python",
   "pygments_lexer": "ipython3",
   "version": "3.6.8"
  }
 },
 "nbformat": 4,
 "nbformat_minor": 2
}
