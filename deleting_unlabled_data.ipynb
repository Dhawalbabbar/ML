{
 "cells": [
  {
   "cell_type": "markdown",
   "metadata": {},
   "source": [
    "# This File is for saving Labled Data to Trimmed Data .csv To be used ahead"
   ]
  },
  {
   "cell_type": "code",
   "execution_count": 1,
   "metadata": {},
   "outputs": [],
   "source": [
    "#Pandas (pd) - for data manipulation\n",
    "#Numpy (np)- for computation\n",
    "\n",
    "import pandas as pd\n",
    "import numpy as np"
   ]
  },
  {
   "cell_type": "code",
   "execution_count": 2,
   "metadata": {},
   "outputs": [
    {
     "name": "stderr",
     "output_type": "stream",
     "text": [
      "C:\\Users\\Babbar\\Anaconda3\\lib\\site-packages\\IPython\\core\\interactiveshell.py:3049: DtypeWarning: Columns (0) have mixed types. Specify dtype option on import or set low_memory=False.\n",
      "  interactivity=interactivity, compiler=compiler, result=result)\n"
     ]
    }
   ],
   "source": [
    "#pd.read_csv reads csv files and return a data Frame, names=['X','Y'] sets the colomn names\n",
    "s1=pd.read_csv('Meditation experiment with tagging-1/NFB_17-4-2019_20-48._FP2csv.csv',names=['X','Y'])\n",
    "s2=pd.read_csv('Meditation experiment with tagging-1/NFB_17-4-2019_22-35_F4.csv',names=['X','Y'])\n",
    "s3=pd.read_csv('Meditation experiment with tagging-1/NFB_18-4-2019_0-13_O2.csv',names=['X','Y'])\n",
    "s4=pd.read_csv('Meditation experiment with tagging-1/NFB_18-4-2019_21-17._P4. csv.csv',names=['X','Y'])\n",
    "#slising 1st sec\n",
    "s1=s3[250:]\n",
    "s2=s2[250:]\n",
    "s3=s3[250:]\n",
    "s4=s4[250:]"
   ]
  },
  {
   "cell_type": "code",
   "execution_count": 3,
   "metadata": {},
   "outputs": [
    {
     "name": "stdout",
     "output_type": "stream",
     "text": [
      "                X  Y\n",
      "0       -36383.99  0\n",
      "1       -36562.80  0\n",
      "2       -36537.41  0\n",
      "3       -36303.37  0\n",
      "4       -35953.32  0\n",
      "5       -35633.27  0\n",
      "6       -35465.53  0\n",
      "7       -35499.72  0\n",
      "8       -35701.37  0\n",
      "9       -35966.78  0\n",
      "10      -36161.99  0\n",
      "11      -36182.92  0\n",
      "12      -36014.89  0\n",
      "13      -35737.47  0\n",
      "14      -35492.81  0\n",
      "15      -35396.40  0\n",
      "16      -35484.36  0\n",
      "17      -35699.95  0\n",
      "18      -35933.96  0\n",
      "19      -36080.81  0\n",
      "20      -36082.58  0\n",
      "21      -35944.02  0\n",
      "22      -35738.80  0\n",
      "23      -35580.90  0\n",
      "24      -35565.32  0\n",
      "25      -35715.29  0\n",
      "26      -35966.84  0\n",
      "27      -36208.14  0\n",
      "28      -36344.20  0\n",
      "29      -36334.35  0\n",
      "...           ... ..\n",
      "1830086 -24458.07  0\n",
      "1830087 -24347.21  0\n",
      "1830088 -24234.71  0\n",
      "1830089 -24129.62  0\n",
      "1830090 -24030.32  0\n",
      "1830091 -23938.61  0\n",
      "1830092 -23868.55  0\n",
      "1830093 -23838.38  0\n",
      "1830094 -23854.50  0\n",
      "1830095 -23904.08  0\n",
      "1830096 -23969.71  0\n",
      "1830097 -24041.91  0\n",
      "1830098 -24119.90  0\n",
      "1830099 -24198.66  0\n",
      "1830100 -24267.81  0\n",
      "1830101 -24318.50  0\n",
      "1830102 -24350.69  0\n",
      "1830103 -24363.03  0\n",
      "1830104 -24347.07  0\n",
      "1830105 -24286.16  0\n",
      "1830106 -24176.68  0\n",
      "1830107 -24036.65  0\n",
      "1830108 -23898.02  0\n",
      "1830109 -23785.02  0\n",
      "1830110 -23703.50  0\n",
      "1830111 -23645.44  0\n",
      "1830112 -23603.68  0\n",
      "1830113 -23567.85  0\n",
      "1830114 -23524.69  0\n",
      "1830115 -23461.63  0\n",
      "\n",
      "[1830116 rows x 2 columns]\n"
     ]
    }
   ],
   "source": [
    "#converting all variables to a single one (a.append(b) concatinates b to a)\n",
    "s=s1.append(s2.append(s3.append(s4)))\n",
    "#print(s)\n",
    "\n",
    "s.X=s.X.astype(float)\n",
    "s=s.reset_index(drop=True)\n",
    "print(s)\n",
    "#shape gives shape of the array or dataframe [0] means number of rows\n",
    "data_points=s.shape[0]"
   ]
  },
  {
   "cell_type": "code",
   "execution_count": 4,
   "metadata": {},
   "outputs": [
    {
     "name": "stderr",
     "output_type": "stream",
     "text": [
      "C:\\Users\\Babbar\\Anaconda3\\lib\\site-packages\\ipykernel_launcher.py:8: SettingWithCopyWarning: \n",
      "A value is trying to be set on a copy of a slice from a DataFrame\n",
      "\n",
      "See the caveats in the documentation: http://pandas.pydata.org/pandas-docs/stable/indexing.html#indexing-view-versus-copy\n",
      "  \n",
      "C:\\Users\\Babbar\\Anaconda3\\lib\\site-packages\\ipykernel_launcher.py:10: SettingWithCopyWarning: \n",
      "A value is trying to be set on a copy of a slice from a DataFrame\n",
      "\n",
      "See the caveats in the documentation: http://pandas.pydata.org/pandas-docs/stable/indexing.html#indexing-view-versus-copy\n",
      "  # Remove the CWD from sys.path while we load stuff.\n"
     ]
    }
   ],
   "source": [
    "#Labeling mind wonder correctly (0:05-1:05) before every label 39 starts as 1 and 40 as 2\n",
    "#datapoints is total rows\n",
    "for i in range(data_points):\n",
    "    if(s.Y[i]==39 or s.Y[i]==40):\n",
    "            if s.Y[i-1]==s.Y[i]:\n",
    "                i+=1500\n",
    "            elif(s.Y[i]==39):\n",
    "                s.Y[i-16250:i-1250]=1\n",
    "            else:\n",
    "                s.Y[i-16250:i-1250]=2"
   ]
  },
  {
   "cell_type": "code",
   "execution_count": 5,
   "metadata": {},
   "outputs": [],
   "source": [
    "temp=s\n",
    "#rows=temp.shape[0]\n",
    "temp=temp[temp['Y']!=0]\n",
    "temp=temp[temp['Y']!=39]\n",
    "temp=temp[temp['Y']!=40]"
   ]
  },
  {
   "cell_type": "code",
   "execution_count": null,
   "metadata": {},
   "outputs": [],
   "source": [
    "#to_csv converts the df to csv and saves it to a acv file\n",
    "temp.to_csv('trimmedData.csv',sep=',')"
   ]
  },
  {
   "cell_type": "code",
   "execution_count": 6,
   "metadata": {},
   "outputs": [
    {
     "data": {
      "text/plain": [
       "(657432, 2)"
      ]
     },
     "execution_count": 6,
     "metadata": {},
     "output_type": "execute_result"
    }
   ],
   "source": [
    "#Total Number of rows in trimmed data.csv is 657432\n",
    "temp.shape"
   ]
  },
  {
   "cell_type": "code",
   "execution_count": null,
   "metadata": {},
   "outputs": [],
   "source": []
  }
 ],
 "metadata": {
  "kernelspec": {
   "display_name": "Python 3",
   "language": "python",
   "name": "python3"
  },
  "language_info": {
   "codemirror_mode": {
    "name": "ipython",
    "version": 3
   },
   "file_extension": ".py",
   "mimetype": "text/x-python",
   "name": "python",
   "nbconvert_exporter": "python",
   "pygments_lexer": "ipython3",
   "version": "3.6.8"
  }
 },
 "nbformat": 4,
 "nbformat_minor": 2
}
