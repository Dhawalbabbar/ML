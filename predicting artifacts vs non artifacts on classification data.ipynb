{
 "cells": [
  {
   "cell_type": "code",
   "execution_count": 1,
   "metadata": {},
   "outputs": [],
   "source": [
    "import pandas as pd\n",
    "import os\n",
    "import random\n",
    "import numpy as np\n",
    "from sklearn.model_selection import train_test_split\n",
    "#os.listdir lists all files in the given directry\n",
    "files=os.listdir(\"Artifacts tagged\")"
   ]
  },
  {
   "cell_type": "code",
   "execution_count": 2,
   "metadata": {},
   "outputs": [],
   "source": [
    "dfs = [pd.read_csv('Artifacts tagged/'+fp,names=['amplitude','value'])[250:] for fp in files]\n",
    "#concat funtion joins all files in dfs and make a large df(data frame)\n",
    "df = pd.concat(dfs)\n",
    "#reset_index resets the index from 1 2 3....7 8 1 2 3     to         1 2 3 ... 7 8 9 10 11\n",
    "df=df.reset_index(drop=True)"
   ]
  },
  {
   "cell_type": "code",
   "execution_count": 3,
   "metadata": {},
   "outputs": [],
   "source": [
    "arr=[]\n",
    "#loop\n",
    "while(True):\n",
    "    #find first non 0 value\n",
    "    start=df.value.ne(0).idxmax()\n",
    "    #end condition\n",
    "    if(start==0):\n",
    "        break\n",
    "    # create a temp variable to store df excluding starting zeros\n",
    "    temp=df.iloc[start:]\n",
    "    #from temp finding first zero\n",
    "    end=temp[temp.value==0].first_valid_index()-1\n",
    "    #a contains the latest chunk of labled data\n",
    "    a=df.iloc[start:end]\n",
    "    a=a.reset_index(drop=True)\n",
    "    #appending a to arr\n",
    "    arr.append([a.amplitude.tolist(),a.value[0]])\n",
    "    #truncate the original df to first found chunk\n",
    "    df=df.iloc[end+1:]\n",
    "    df=df.reset_index(drop=True)"
   ]
  },
  {
   "cell_type": "code",
   "execution_count": 4,
   "metadata": {},
   "outputs": [
    {
     "data": {
      "text/plain": [
       "(338, 2)"
      ]
     },
     "execution_count": 4,
     "metadata": {},
     "output_type": "execute_result"
    }
   ],
   "source": [
    "arr=np.array(arr)\n",
    "arr.shape"
   ]
  },
  {
   "cell_type": "code",
   "execution_count": 5,
   "metadata": {},
   "outputs": [
    {
     "name": "stdout",
     "output_type": "stream",
     "text": [
      "338\n"
     ]
    }
   ],
   "source": [
    "data_points=arr.shape[0]\n",
    "print(data_points)"
   ]
  },
  {
   "cell_type": "code",
   "execution_count": 6,
   "metadata": {},
   "outputs": [
    {
     "data": {
      "text/plain": [
       "(6, 2)"
      ]
     },
     "execution_count": 6,
     "metadata": {},
     "output_type": "execute_result"
    }
   ],
   "source": [
    "realEEG=[]\n",
    "for i in range(1,7):\n",
    "    realEEG.append(arr[-i])\n",
    "realEEG=np.array(realEEG)\n",
    "\n",
    "realEEG.shape"
   ]
  },
  {
   "cell_type": "code",
   "execution_count": 7,
   "metadata": {},
   "outputs": [],
   "source": [
    "arr=arr[0:data_points-6]"
   ]
  },
  {
   "cell_type": "code",
   "execution_count": 8,
   "metadata": {},
   "outputs": [],
   "source": [
    "for _ in range(6):\n",
    "    a=realEEG[_]\n",
    "    temp=[]\n",
    "    i=0\n",
    "    l=len(a[0])\n",
    "    #loop through and append into temp\n",
    "    while(i<l):\n",
    "        #generating a random number from 100-400 (size of other files)\n",
    "        ran=random.randrange(100, 400)\n",
    "        #corner cases for last left chunks in files\n",
    "        if(l-i<100):\n",
    "            #print('d')\n",
    "            break\n",
    "        if(l-i<400):\n",
    "            #print('s')\n",
    "            temp.append([a[0][i:l],float(79.0)])\n",
    "            #print(np.array(a[0][i:l]).shape)\n",
    "            break\n",
    "        #appending to temp\n",
    "        #print('a',end=' ')\n",
    "        #print(np.array(a[0][i:i+ran]).shape)\n",
    "        temp.append([a[0][i:i+ran],float(79.0)])\n",
    "        i+=ran\n",
    "    temp=np.array(temp)\n",
    "    #print(temp.shape)\n",
    "    #appending to arr\n",
    "    arr=np.concatenate((arr,temp))\n",
    "    #print(arr.shape)"
   ]
  },
  {
   "cell_type": "code",
   "execution_count": 9,
   "metadata": {},
   "outputs": [],
   "source": [
    "df=pd.DataFrame(arr,columns=['X','Y'])\n",
    "# Extracting X, Y\n",
    "X=df.X.values\n",
    "Y=df.Y"
   ]
  },
  {
   "cell_type": "code",
   "execution_count": 10,
   "metadata": {},
   "outputs": [],
   "source": [
    "d=[]\n",
    "data_points=X.shape[0]\n",
    "for i in range(data_points):\n",
    "    temp=np.array(X[i])\n",
    "    #converting string to floats\n",
    "    temp=temp.astype(np.float)\n",
    "    \n",
    "    rows=temp.shape[0]\n",
    "    #number of valued in each chunk\n",
    "    #print(rows)\n",
    "    #reshaping\n",
    "    temp=temp.reshape(rows,1)\n",
    "    #appending to d\n",
    "    d.append(temp)"
   ]
  },
  {
   "cell_type": "code",
   "execution_count": 11,
   "metadata": {},
   "outputs": [
    {
     "data": {
      "text/plain": [
       "448"
      ]
     },
     "execution_count": 11,
     "metadata": {},
     "output_type": "execute_result"
    }
   ],
   "source": [
    "d=np.array(d)\n",
    "X=d\n",
    "X.shape[0]"
   ]
  },
  {
   "cell_type": "code",
   "execution_count": 12,
   "metadata": {},
   "outputs": [],
   "source": [
    "for i in range(X.shape[0]):\n",
    "    X[i]=X[i]-np.mean(X[i])"
   ]
  },
  {
   "cell_type": "code",
   "execution_count": 13,
   "metadata": {},
   "outputs": [],
   "source": [
    "df=pd.DataFrame(columns=['min','max','max-min','sd'])\n",
    "for i in range(X.shape[0]):\n",
    "    mini=np.min(X[i])\n",
    "    maxi=np.max(X[i])\n",
    "    sd=np.std(X[i])\n",
    "    df = df.append({'min': mini,'max':maxi,'max-min':maxi-mini,'sd':sd}, ignore_index=True)"
   ]
  },
  {
   "cell_type": "code",
   "execution_count": 14,
   "metadata": {},
   "outputs": [],
   "source": [
    "X=df.values"
   ]
  },
  {
   "cell_type": "code",
   "execution_count": 15,
   "metadata": {},
   "outputs": [],
   "source": [
    "Y[Y!=79]=1"
   ]
  },
  {
   "cell_type": "code",
   "execution_count": 16,
   "metadata": {},
   "outputs": [
    {
     "name": "stdout",
     "output_type": "stream",
     "text": [
      "(148,)\n"
     ]
    }
   ],
   "source": [
    "Y=Y.astype(int)\n",
    "#train test split test_size is the ratio of test sixe vs total\n",
    "X_train, X_test, y_train, y_test = train_test_split(X, Y, test_size=0.33)\n",
    "print(y_test.shape)"
   ]
  },
  {
   "cell_type": "code",
   "execution_count": 17,
   "metadata": {},
   "outputs": [
    {
     "data": {
      "text/plain": [
       "0.9932432432432432"
      ]
     },
     "execution_count": 17,
     "metadata": {},
     "output_type": "execute_result"
    }
   ],
   "source": [
    "from sklearn.svm import SVC\n",
    "#defining the classifier\n",
    "clf = SVC(kernel='linear') \n",
    "clf.fit(X_train,y_train)\n",
    "clf.score(X_test,y_test)"
   ]
  },
  {
   "cell_type": "markdown",
   "metadata": {},
   "source": [
    "# now loading classification data"
   ]
  },
  {
   "cell_type": "code",
   "execution_count": 18,
   "metadata": {},
   "outputs": [],
   "source": [
    "temp=pd.read_csv('trimmedData.csv')\n",
    "X=temp['X']\n",
    "X=X.values.reshape(-1,1)\n",
    "Y=temp['Y']"
   ]
  },
  {
   "cell_type": "code",
   "execution_count": 19,
   "metadata": {},
   "outputs": [],
   "source": [
    "gtemp=temp.groupby('Y')\n",
    "y=[]\n",
    "g1=gtemp.get_group(1) \n",
    "g2=gtemp.get_group(2)\n",
    "g32=gtemp.get_group(32)\n",
    "g37=gtemp.get_group(37)\n",
    "g38=gtemp.get_group(38)"
   ]
  },
  {
   "cell_type": "code",
   "execution_count": 20,
   "metadata": {},
   "outputs": [],
   "source": [
    "n_features=1\n",
    "totaldp=0\n",
    "window=250\n",
    "\n",
    "X=g1['X']\n",
    "data_points=X.shape[0]//window\n",
    "y=np.append(y,[1]*data_points)\n",
    "totaldp+=data_points\n",
    "X=X.head(data_points*window)\n",
    "X=np.array(X)\n",
    "X=np.reshape(X,((data_points,window,n_features)))\n",
    "groupedX=X\n",
    "X=g2['X']\n",
    "data_points=X.shape[0]//window\n",
    "y=np.append(y,[2]*data_points)\n",
    "totaldp+=data_points\n",
    "X=X.head(data_points*window)\n",
    "X=np.array(X)\n",
    "X=np.reshape(X,((data_points,window,n_features)))\n",
    "groupedX=np.append(groupedX,X)\n",
    "X=g32['X']\n",
    "data_points=X.shape[0]//window\n",
    "y=np.append(y,[32]*data_points)\n",
    "totaldp+=data_points\n",
    "X=X.head(data_points*window)\n",
    "X=np.array(X)\n",
    "X=np.reshape(X,((data_points,window,n_features)))\n",
    "groupedX=np.append(groupedX,X)\n",
    "X=g37['X']\n",
    "data_points=X.shape[0]//window\n",
    "y=np.append(y,[37]*data_points)\n",
    "totaldp+=data_points\n",
    "X=X.head(data_points*window)\n",
    "X=np.array(X)\n",
    "X=np.reshape(X,((data_points,window,n_features)))\n",
    "groupedX=np.append(groupedX,X)\n",
    "X=g38['X']\n",
    "data_points=X.shape[0]//window\n",
    "y=np.append(y,[38]*data_points)\n",
    "totaldp+=data_points\n",
    "X=X.head(data_points*window)\n",
    "X=np.array(X)\n",
    "X=np.reshape(X,((data_points,window,n_features)))\n",
    "groupedX=np.append(groupedX,X)\n",
    "groupedX=np.reshape(groupedX,((totaldp,window,n_features)))"
   ]
  },
  {
   "cell_type": "code",
   "execution_count": 21,
   "metadata": {},
   "outputs": [],
   "source": [
    "for i in range(groupedX.shape[0]):\n",
    "    groupedX[i]=groupedX[i]-np.mean(groupedX[i])"
   ]
  },
  {
   "cell_type": "code",
   "execution_count": 38,
   "metadata": {},
   "outputs": [],
   "source": [
    "X=groupedX\n",
    "#dividing by ratio of ranges between 2 datasets\n",
    "X/=2"
   ]
  },
  {
   "cell_type": "code",
   "execution_count": 39,
   "metadata": {},
   "outputs": [],
   "source": [
    "a=np.max(X,axis=1)\n",
    "    #print(a.shape)\n",
    "    #b=np.min(X,axis=1)\n",
    "a=np.concatenate((a,np.min(X,axis=1)),axis=1)\n",
    "a=np.concatenate((a,np.max(X,axis=1)-np.min(X,axis=1)),axis=1)\n",
    "a=np.concatenate((a,np.std(X,axis=1)),axis=1)"
   ]
  },
  {
   "cell_type": "code",
   "execution_count": 48,
   "metadata": {},
   "outputs": [],
   "source": [
    "pred=clf.predict(a[0:1000])"
   ]
  },
  {
   "cell_type": "code",
   "execution_count": 51,
   "metadata": {},
   "outputs": [
    {
     "name": "stdout",
     "output_type": "stream",
     "text": [
      "766\n",
      "879\n"
     ]
    }
   ],
   "source": [
    "for i in range(1000):\n",
    "    if pred[i]==1:\n",
    "        print(i)"
   ]
  },
  {
   "cell_type": "code",
   "execution_count": 68,
   "metadata": {},
   "outputs": [
    {
     "data": {
      "text/plain": [
       "[<matplotlib.lines.Line2D at 0x1b8e81b3d30>]"
      ]
     },
     "execution_count": 68,
     "metadata": {},
     "output_type": "execute_result"
    },
    {
     "data": {
      "image/png": "[encoded data removed]",
      "text/plain": [
       "<Figure size 432x288 with 1 Axes>"
      ]
     },
     "metadata": {
      "needs_background": "light"
     },
     "output_type": "display_data"
    }
   ],
   "source": [
    "#X[2]\n",
    "import matplotlib.pyplot as plt\n",
    "plt.plot(X[766])"
   ]
  },
  {
   "cell_type": "code",
   "execution_count": 69,
   "metadata": {},
   "outputs": [
    {
     "data": {
      "text/plain": [
       "(2628, 4)"
      ]
     },
     "execution_count": 69,
     "metadata": {},
     "output_type": "execute_result"
    }
   ],
   "source": [
    "a.shape"
   ]
  },
  {
   "cell_type": "code",
   "execution_count": null,
   "metadata": {},
   "outputs": [],
   "source": []
  },
  {
   "cell_type": "code",
   "execution_count": null,
   "metadata": {},
   "outputs": [],
   "source": []
  },
  {
   "cell_type": "markdown",
   "metadata": {},
   "source": [
    "# Testing"
   ]
  },
  {
   "cell_type": "code",
   "execution_count": 27,
   "metadata": {},
   "outputs": [
    {
     "data": {
      "text/plain": [
       "1480.5309817351597"
      ]
     },
     "execution_count": 27,
     "metadata": {},
     "output_type": "execute_result"
    }
   ],
   "source": [
    "a[:,2].mean()"
   ]
  },
  {
   "cell_type": "code",
   "execution_count": 32,
   "metadata": {},
   "outputs": [
    {
     "data": {
      "text/plain": [
       "701.6117241379304"
      ]
     },
     "execution_count": 32,
     "metadata": {},
     "output_type": "execute_result"
    }
   ],
   "source": [
    "df['max-min'][332:].mean()"
   ]
  },
  {
   "cell_type": "code",
   "execution_count": null,
   "metadata": {},
   "outputs": [],
   "source": []
  }
 ],
 "metadata": {
  "kernelspec": {
   "display_name": "Python 3",
   "language": "python",
   "name": "python3"
  },
  "language_info": {
   "codemirror_mode": {
    "name": "ipython",
    "version": 3
   },
   "file_extension": ".py",
   "mimetype": "text/x-python",
   "name": "python",
   "nbconvert_exporter": "python",
   "pygments_lexer": "ipython3",
   "version": "3.7.3"
  }
 },
 "nbformat": 4,
 "nbformat_minor": 2
}
