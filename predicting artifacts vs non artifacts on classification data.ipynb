{
 "cells": [
  {
   "cell_type": "code",
   "execution_count": 1,
   "metadata": {},
   "outputs": [],
   "source": [
    "import pandas as pd\n",
    "import os\n",
    "import random\n",
    "import numpy as np\n",
    "from sklearn.model_selection import train_test_split\n",
    "#os.listdir lists all files in the given directry\n",
    "files=os.listdir(\"Artifacts tagged\")"
   ]
  },
  {
   "cell_type": "code",
   "execution_count": 2,
   "metadata": {},
   "outputs": [],
   "source": [
    "dfs = [pd.read_csv('Artifacts tagged/'+fp,names=['amplitude','value'])[250:] for fp in files]\n",
    "#concat funtion joins all files in dfs and make a large df(data frame)\n",
    "df = pd.concat(dfs)\n",
    "#reset_index resets the index from 1 2 3....7 8 1 2 3     to         1 2 3 ... 7 8 9 10 11\n",
    "df=df.reset_index(drop=True)"
   ]
  },
  {
   "cell_type": "code",
   "execution_count": 3,
   "metadata": {},
   "outputs": [],
   "source": [
    "arr=[]\n",
    "#loop\n",
    "while(True):\n",
    "    #find first non 0 value\n",
    "    start=df.value.ne(0).idxmax()\n",
    "    #end condition\n",
    "    if(start==0):\n",
    "        break\n",
    "    # create a temp variable to store df excluding starting zeros\n",
    "    temp=df.iloc[start:]\n",
    "    #from temp finding first zero\n",
    "    end=temp[temp.value==0].first_valid_index()-1\n",
    "    #a contains the latest chunk of labled data\n",
    "    a=df.iloc[start:end]\n",
    "    a=a.reset_index(drop=True)\n",
    "    #appending a to arr\n",
    "    arr.append([a.amplitude.tolist(),a.value[0]])\n",
    "    #truncate the original df to first found chunk\n",
    "    df=df.iloc[end+1:]\n",
    "    df=df.reset_index(drop=True)"
   ]
  },
  {
   "cell_type": "code",
   "execution_count": 4,
   "metadata": {},
   "outputs": [
    {
     "data": {
      "text/plain": [
       "(338, 2)"
      ]
     },
     "execution_count": 4,
     "metadata": {},
     "output_type": "execute_result"
    }
   ],
   "source": [
    "arr=np.array(arr)\n",
    "arr.shape"
   ]
  },
  {
   "cell_type": "code",
   "execution_count": 5,
   "metadata": {},
   "outputs": [
    {
     "name": "stdout",
     "output_type": "stream",
     "text": [
      "338\n"
     ]
    }
   ],
   "source": [
    "data_points=arr.shape[0]\n",
    "print(data_points)"
   ]
  },
  {
   "cell_type": "code",
   "execution_count": 6,
   "metadata": {},
   "outputs": [
    {
     "data": {
      "text/plain": [
       "(6, 2)"
      ]
     },
     "execution_count": 6,
     "metadata": {},
     "output_type": "execute_result"
    }
   ],
   "source": [
    "realEEG=[]\n",
    "for i in range(1,7):\n",
    "    realEEG.append(arr[-i])\n",
    "realEEG=np.array(realEEG)\n",
    "\n",
    "realEEG.shape"
   ]
  },
  {
   "cell_type": "code",
   "execution_count": 7,
   "metadata": {},
   "outputs": [],
   "source": [
    "arr=arr[0:data_points-6]"
   ]
  },
  {
   "cell_type": "code",
   "execution_count": 14,
   "metadata": {},
   "outputs": [],
   "source": [
    "for _ in range(6):\n",
    "    a=realEEG[_]\n",
    "    temp=[]\n",
    "    i=0\n",
    "    l=len(a[0])\n",
    "    #loop through and append into temp\n",
    "    while(i<l):\n",
    "        #generating a random number from 100-400 (size of other files)\n",
    "        ran=random.randrange(100, 400)\n",
    "        #corner cases for last left chunks in files\n",
    "        if(l-i<100):\n",
    "            #print('d')\n",
    "            break\n",
    "        if(l-i<400):\n",
    "            #print('s')\n",
    "            temp.append([a[0][i:l],float(79.0)])\n",
    "            #print(np.array(a[0][i:l]).shape)\n",
    "            break\n",
    "        #appending to temp\n",
    "        #print('a',end=' ')\n",
    "        #print(np.array(a[0][i:i+ran]).shape)\n",
    "        temp.append([a[0][i:i+ran],float(79.0)])\n",
    "        i+=ran\n",
    "    temp=np.array(temp)\n",
    "    #print(temp.shape)\n",
    "    #appending to arr\n",
    "    arr=np.concatenate((arr,temp))\n",
    "    #print(arr.shape)"
   ]
  },
  {
   "cell_type": "code",
   "execution_count": 15,
   "metadata": {},
   "outputs": [],
   "source": [
    "df=pd.DataFrame(arr,columns=['X','Y'])\n",
    "# Extracting X, Y\n",
    "X=df.X.values\n",
    "Y=df.Y"
   ]
  },
  {
   "cell_type": "code",
   "execution_count": 16,
   "metadata": {},
   "outputs": [],
   "source": [
    "d=[]\n",
    "data_points=X.shape[0]\n",
    "for i in range(data_points):\n",
    "    temp=np.array(X[i])\n",
    "    #converting string to floats\n",
    "    temp=temp.astype(np.float)\n",
    "    \n",
    "    rows=temp.shape[0]\n",
    "    #number of valued in each chunk\n",
    "    #print(rows)\n",
    "    #reshaping\n",
    "    temp=temp.reshape(rows,1)\n",
    "    #appending to d\n",
    "    d.append(temp)"
   ]
  },
  {
   "cell_type": "code",
   "execution_count": 17,
   "metadata": {},
   "outputs": [
    {
     "data": {
      "text/plain": [
       "655"
      ]
     },
     "execution_count": 17,
     "metadata": {},
     "output_type": "execute_result"
    }
   ],
   "source": [
    "d=np.array(d)\n",
    "X=d\n",
    "X.shape[0]"
   ]
  },
  {
   "cell_type": "code",
   "execution_count": 18,
   "metadata": {},
   "outputs": [],
   "source": [
    "for i in range(X.shape[0]):\n",
    "    X[i]=X[i]-np.mean(X[i])"
   ]
  },
  {
   "cell_type": "code",
   "execution_count": 19,
   "metadata": {},
   "outputs": [],
   "source": [
    "df=pd.DataFrame(columns=['min','max','max-min','sd'])\n",
    "for i in range(X.shape[0]):\n",
    "    mini=np.min(X[i])\n",
    "    maxi=np.max(X[i])\n",
    "    sd=np.std(X[i])\n",
    "    df = df.append({'min': mini,'max':maxi,'max-min':maxi-mini,'sd':sd}, ignore_index=True)"
   ]
  },
  {
   "cell_type": "code",
   "execution_count": 20,
   "metadata": {},
   "outputs": [],
   "source": [
    "X=df.values"
   ]
  },
  {
   "cell_type": "code",
   "execution_count": 21,
   "metadata": {},
   "outputs": [],
   "source": [
    "Y[Y!=79]=1"
   ]
  },
  {
   "cell_type": "code",
   "execution_count": 22,
   "metadata": {},
   "outputs": [
    {
     "name": "stdout",
     "output_type": "stream",
     "text": [
      "(217,)\n"
     ]
    }
   ],
   "source": [
    "Y=Y.astype(int)\n",
    "#train test split test_size is the ratio of test sixe vs total\n",
    "X_train, X_test, y_train, y_test = train_test_split(X, Y, test_size=0.33)\n",
    "print(y_test.shape)"
   ]
  },
  {
   "cell_type": "code",
   "execution_count": 55,
   "metadata": {},
   "outputs": [
    {
     "data": {
      "text/plain": [
       "0.9861751152073732"
      ]
     },
     "execution_count": 55,
     "metadata": {},
     "output_type": "execute_result"
    }
   ],
   "source": [
    "from sklearn.svm import SVC\n",
    "#defining the classifier\n",
    "clf = SVC(kernel='linear') \n",
    "clf.fit(X_train,y_train)\n",
    "clf.score(X_test,y_test)"
   ]
  },
  {
   "cell_type": "markdown",
   "metadata": {},
   "source": [
    "# now loading classification data"
   ]
  },
  {
   "cell_type": "code",
   "execution_count": 69,
   "metadata": {},
   "outputs": [],
   "source": [
    "temp=pd.read_csv('trimmedData.csv')\n",
    "X=temp['X']\n",
    "X=X.values.reshape(-1,1)\n",
    "Y=temp['Y']"
   ]
  },
  {
   "cell_type": "code",
   "execution_count": 70,
   "metadata": {},
   "outputs": [],
   "source": [
    "gtemp=temp.groupby('Y')\n",
    "y=[]\n",
    "g1=gtemp.get_group(1) \n",
    "g2=gtemp.get_group(2)\n",
    "g32=gtemp.get_group(32)\n",
    "g37=gtemp.get_group(37)\n",
    "g38=gtemp.get_group(38)"
   ]
  },
  {
   "cell_type": "code",
   "execution_count": 71,
   "metadata": {},
   "outputs": [],
   "source": [
    "n_features=1\n",
    "totaldp=0\n",
    "window=250\n",
    "\n",
    "X=g1['X']\n",
    "data_points=X.shape[0]//window\n",
    "y=np.append(y,[1]*data_points)\n",
    "totaldp+=data_points\n",
    "X=X.head(data_points*window)\n",
    "X=np.array(X)\n",
    "X=np.reshape(X,((data_points,window,n_features)))\n",
    "groupedX=X\n",
    "X=g2['X']\n",
    "data_points=X.shape[0]//window\n",
    "y=np.append(y,[2]*data_points)\n",
    "totaldp+=data_points\n",
    "X=X.head(data_points*window)\n",
    "X=np.array(X)\n",
    "X=np.reshape(X,((data_points,window,n_features)))\n",
    "groupedX=np.append(groupedX,X)\n",
    "X=g32['X']\n",
    "data_points=X.shape[0]//window\n",
    "y=np.append(y,[32]*data_points)\n",
    "totaldp+=data_points\n",
    "X=X.head(data_points*window)\n",
    "X=np.array(X)\n",
    "X=np.reshape(X,((data_points,window,n_features)))\n",
    "groupedX=np.append(groupedX,X)\n",
    "X=g37['X']\n",
    "data_points=X.shape[0]//window\n",
    "y=np.append(y,[37]*data_points)\n",
    "totaldp+=data_points\n",
    "X=X.head(data_points*window)\n",
    "X=np.array(X)\n",
    "X=np.reshape(X,((data_points,window,n_features)))\n",
    "groupedX=np.append(groupedX,X)\n",
    "X=g38['X']\n",
    "data_points=X.shape[0]//window\n",
    "y=np.append(y,[38]*data_points)\n",
    "totaldp+=data_points\n",
    "X=X.head(data_points*window)\n",
    "X=np.array(X)\n",
    "X=np.reshape(X,((data_points,window,n_features)))\n",
    "groupedX=np.append(groupedX,X)\n",
    "groupedX=np.reshape(groupedX,((totaldp,window,n_features)))"
   ]
  },
  {
   "cell_type": "code",
   "execution_count": 72,
   "metadata": {},
   "outputs": [],
   "source": [
    "for i in range(groupedX.shape[0]):\n",
    "    groupedX[i]=groupedX[i]-np.mean(groupedX[i])"
   ]
  },
  {
   "cell_type": "code",
   "execution_count": 73,
   "metadata": {},
   "outputs": [],
   "source": [
    "X=groupedX\n",
    "#df=pd.DataFrame(columns=['min','max','max-min','sd'])\n",
    "#for i in range(X.shape[0]):\n",
    "#    mini=np.min(X[i])\n",
    "#    maxi=np.max(X[i])\n",
    "#    sd=np.std(X[i])\n",
    "#    df = df.append({'min': mini,'max':maxi,'max-min':maxi-mini,'sd':sd}, ignore_index=True)"
   ]
  },
  {
   "cell_type": "code",
   "execution_count": 74,
   "metadata": {},
   "outputs": [],
   "source": [
    "a=np.max(X,axis=1)\n",
    "    #print(a.shape)\n",
    "    #b=np.min(X,axis=1)\n",
    "a=np.concatenate((a,np.min(X,axis=1)),axis=1)\n",
    "a=np.concatenate((a,np.max(X,axis=1)-np.min(X,axis=1)),axis=1)\n",
    "a=np.concatenate((a,np.std(X,axis=1)),axis=1)"
   ]
  },
  {
   "cell_type": "code",
   "execution_count": 96,
   "metadata": {},
   "outputs": [],
   "source": [
    "pred=clf.predict(a[19:21])"
   ]
  },
  {
   "cell_type": "code",
   "execution_count": 97,
   "metadata": {},
   "outputs": [
    {
     "data": {
      "text/plain": [
       "array([ 1, 79])"
      ]
     },
     "execution_count": 97,
     "metadata": {},
     "output_type": "execute_result"
    }
   ],
   "source": [
    "pred"
   ]
  },
  {
   "cell_type": "code",
   "execution_count": 108,
   "metadata": {},
   "outputs": [
    {
     "data": {
      "text/plain": [
       "[<matplotlib.lines.Line2D at 0x219165b9c18>]"
      ]
     },
     "execution_count": 108,
     "metadata": {},
     "output_type": "execute_result"
    },
    {
     "data": {
      "image/png": "[encoded data removed]",
      "text/plain": [
       "<Figure size 432x288 with 1 Axes>"
      ]
     },
     "metadata": {
      "needs_background": "light"
     },
     "output_type": "display_data"
    }
   ],
   "source": [
    "#X[2]\n",
    "import matplotlib.pyplot as plt\n",
    "plt.plot(X[5])"
   ]
  },
  {
   "cell_type": "code",
   "execution_count": 109,
   "metadata": {},
   "outputs": [
    {
     "data": {
      "text/plain": [
       "array([[  85.67584],\n",
       "       [ 223.27584],\n",
       "       [ 313.33584],\n",
       "       [ 317.37584],\n",
       "       [ 232.37584],\n",
       "       [  97.30584],\n",
       "       [ -24.60416],\n",
       "       [ -81.11416],\n",
       "       [ -54.28416],\n",
       "       [  32.47584],\n",
       "       [ 128.27584],\n",
       "       [ 178.87584],\n",
       "       [ 143.83584],\n",
       "       [  16.08584],\n",
       "       [-167.59416],\n",
       "       [-340.62416],\n",
       "       [-434.65416],\n",
       "       [-417.23416],\n",
       "       [-303.79416],\n",
       "       [-145.64416],\n",
       "       [  -1.77416],\n",
       "       [  86.87584],\n",
       "       [ 104.73584],\n",
       "       [  70.98584],\n",
       "       [  23.84584],\n",
       "       [   4.26584],\n",
       "       [  37.96584],\n",
       "       [ 110.32584],\n",
       "       [ 187.77584],\n",
       "       [ 230.90584],\n",
       "       [ 226.12584],\n",
       "       [ 186.97584],\n",
       "       [ 143.26584],\n",
       "       [ 122.11584],\n",
       "       [ 130.68584],\n",
       "       [ 157.30584],\n",
       "       [ 171.60584],\n",
       "       [ 139.77584],\n",
       "       [  43.23584],\n",
       "       [-103.69416],\n",
       "       [-254.79416],\n",
       "       [-355.29416],\n",
       "       [-372.35416],\n",
       "       [-315.66416],\n",
       "       [-226.74416],\n",
       "       [-158.67416],\n",
       "       [-145.24416],\n",
       "       [-189.25416],\n",
       "       [-260.31416],\n",
       "       [-307.22416],\n",
       "       [-281.12416],\n",
       "       [-166.09416],\n",
       "       [  10.22584],\n",
       "       [ 182.76584],\n",
       "       [ 287.52584],\n",
       "       [ 292.62584],\n",
       "       [ 210.98584],\n",
       "       [  92.54584],\n",
       "       [  -7.68416],\n",
       "       [ -47.42416],\n",
       "       [ -15.51416],\n",
       "       [  63.90584],\n",
       "       [ 142.74584],\n",
       "       [ 175.33584],\n",
       "       [ 147.23584],\n",
       "       [  80.90584],\n",
       "       [  21.59584],\n",
       "       [   3.71584],\n",
       "       [  32.86584],\n",
       "       [  84.37584],\n",
       "       [ 122.65584],\n",
       "       [ 118.85584],\n",
       "       [  64.90584],\n",
       "       [ -29.63416],\n",
       "       [-133.36416],\n",
       "       [-211.28416],\n",
       "       [-242.54416],\n",
       "       [-237.35416],\n",
       "       [-223.54416],\n",
       "       [-229.93416],\n",
       "       [-261.02416],\n",
       "       [-297.34416],\n",
       "       [-311.47416],\n",
       "       [-281.06416],\n",
       "       [-194.75416],\n",
       "       [ -58.49416],\n",
       "       [ 109.52584],\n",
       "       [ 281.74584],\n",
       "       [ 423.14584],\n",
       "       [ 511.73584],\n",
       "       [ 543.72584],\n",
       "       [ 524.41584],\n",
       "       [ 461.78584],\n",
       "       [ 361.40584],\n",
       "       [ 237.07584],\n",
       "       [ 117.36584],\n",
       "       [  32.72584],\n",
       "       [  -1.01416],\n",
       "       [   7.49584],\n",
       "       [  27.02584],\n",
       "       [  19.26584],\n",
       "       [ -49.23416],\n",
       "       [-193.07416],\n",
       "       [-399.60416],\n",
       "       [-622.69416],\n",
       "       [-800.96416],\n",
       "       [-884.29416],\n",
       "       [-857.20416],\n",
       "       [-742.36416],\n",
       "       [-584.87416],\n",
       "       [-423.60416],\n",
       "       [-273.10416],\n",
       "       [-128.89416],\n",
       "       [  25.53584],\n",
       "       [ 203.50584],\n",
       "       [ 403.19584],\n",
       "       [ 599.83584],\n",
       "       [ 748.70584],\n",
       "       [ 809.21584],\n",
       "       [ 769.92584],\n",
       "       [ 659.21584],\n",
       "       [ 530.86584],\n",
       "       [ 429.27584],\n",
       "       [ 368.46584],\n",
       "       [ 329.82584],\n",
       "       [ 268.88584],\n",
       "       [ 142.60584],\n",
       "       [ -69.34416],\n",
       "       [-350.16416],\n",
       "       [-638.03416],\n",
       "       [-852.96416],\n",
       "       [-926.94416],\n",
       "       [-836.80416],\n",
       "       [-618.75416],\n",
       "       [-341.75416],\n",
       "       [ -82.38416],\n",
       "       [ 104.67584],\n",
       "       [ 193.03584],\n",
       "       [ 193.25584],\n",
       "       [ 143.09584],\n",
       "       [  91.46584],\n",
       "       [  80.58584],\n",
       "       [ 123.40584],\n",
       "       [ 207.85584],\n",
       "       [ 306.43584],\n",
       "       [ 394.39584],\n",
       "       [ 452.03584],\n",
       "       [ 463.53584],\n",
       "       [ 421.19584],\n",
       "       [ 327.47584],\n",
       "       [ 200.63584],\n",
       "       [  63.28584],\n",
       "       [ -67.80416],\n",
       "       [-183.87416],\n",
       "       [-278.40416],\n",
       "       [-345.50416],\n",
       "       [-380.42416],\n",
       "       [-390.22416],\n",
       "       [-384.47416],\n",
       "       [-368.82416],\n",
       "       [-344.39416],\n",
       "       [-310.48416],\n",
       "       [-271.58416],\n",
       "       [-241.99416],\n",
       "       [-232.22416],\n",
       "       [-241.93416],\n",
       "       [-258.58416],\n",
       "       [-264.94416],\n",
       "       [-239.84416],\n",
       "       [-163.36416],\n",
       "       [ -21.84416],\n",
       "       [ 176.82584],\n",
       "       [ 399.47584],\n",
       "       [ 594.86584],\n",
       "       [ 714.27584],\n",
       "       [ 728.27584],\n",
       "       [ 638.07584],\n",
       "       [ 464.71584],\n",
       "       [ 245.60584],\n",
       "       [  25.30584],\n",
       "       [-151.75416],\n",
       "       [-257.83416],\n",
       "       [-295.60416],\n",
       "       [-284.79416],\n",
       "       [-252.63416],\n",
       "       [-213.36416],\n",
       "       [-169.53416],\n",
       "       [-121.33416],\n",
       "       [ -66.57416],\n",
       "       [  -5.85416],\n",
       "       [  59.16584],\n",
       "       [ 118.39584],\n",
       "       [ 148.92584],\n",
       "       [ 131.23584],\n",
       "       [  61.01584],\n",
       "       [ -47.63416],\n",
       "       [-164.19416],\n",
       "       [-258.30416],\n",
       "       [-308.34416],\n",
       "       [-309.14416],\n",
       "       [-261.33416],\n",
       "       [-178.94416],\n",
       "       [ -81.49416],\n",
       "       [   4.82584],\n",
       "       [  68.88584],\n",
       "       [ 113.62584],\n",
       "       [ 145.26584],\n",
       "       [ 166.81584],\n",
       "       [ 175.18584],\n",
       "       [ 168.47584],\n",
       "       [ 153.41584],\n",
       "       [ 143.58584],\n",
       "       [ 145.27584],\n",
       "       [ 158.92584],\n",
       "       [ 179.34584],\n",
       "       [ 193.81584],\n",
       "       [ 186.04584],\n",
       "       [ 134.75584],\n",
       "       [  27.59584],\n",
       "       [-128.91416],\n",
       "       [-301.40416],\n",
       "       [-448.24416],\n",
       "       [-538.69416],\n",
       "       [-563.30416],\n",
       "       [-531.95416],\n",
       "       [-465.59416],\n",
       "       [-386.86416],\n",
       "       [-311.03416],\n",
       "       [-244.48416],\n",
       "       [-175.89416],\n",
       "       [ -84.97416],\n",
       "       [  40.03584],\n",
       "       [ 187.00584],\n",
       "       [ 322.45584],\n",
       "       [ 410.16584],\n",
       "       [ 429.52584],\n",
       "       [ 387.15584],\n",
       "       [ 309.41584],\n",
       "       [ 233.05584],\n",
       "       [ 197.20584],\n",
       "       [ 224.46584],\n",
       "       [ 308.12584],\n",
       "       [ 408.36584],\n",
       "       [ 469.91584],\n",
       "       [ 452.54584],\n",
       "       [ 349.96584],\n",
       "       [ 192.84584],\n",
       "       [  29.18584],\n",
       "       [ -96.58416],\n",
       "       [-155.11416]])"
      ]
     },
     "execution_count": 109,
     "metadata": {},
     "output_type": "execute_result"
    }
   ],
   "source": [
    "X[5]"
   ]
  },
  {
   "cell_type": "code",
   "execution_count": null,
   "metadata": {},
   "outputs": [],
   "source": []
  }
 ],
 "metadata": {
  "kernelspec": {
   "display_name": "Python 3",
   "language": "python",
   "name": "python3"
  },
  "language_info": {
   "codemirror_mode": {
    "name": "ipython",
    "version": 3
   },
   "file_extension": ".py",
   "mimetype": "text/x-python",
   "name": "python",
   "nbconvert_exporter": "python",
   "pygments_lexer": "ipython3",
   "version": "3.7.3"
  }
 },
 "nbformat": 4,
 "nbformat_minor": 2
}
